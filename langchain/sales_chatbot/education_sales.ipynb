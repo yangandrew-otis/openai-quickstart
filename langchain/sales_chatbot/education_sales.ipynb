{
 "cells": [
  {
   "cell_type": "markdown",
   "id": "69032b4b-b031-4020-beb0-e8dfd22b660e",
   "metadata": {},
   "source": [
    "# 教育销售聊天机器人"
   ]
  },
  {
   "cell_type": "markdown",
   "id": "0f3e2d5a-c2ff-4faf-b153-d1751c25fae0",
   "metadata": {},
   "source": [
    "## 构造销售话术数据\n",
    "\n",
    "Prompt：\n",
    "\n",
    "```\n",
    "你是中国顶级的中小学课程销售，现在培训职场新人。请给出100条使用的销售话术。内容包括但不限于：中小学课程、中考和高考准备、出国留学择校、大学考试专业选择、艺术类考试准备。\n",
    "\n",
    "每条销售话术以如下格式给出（保留每行开头的“[客户问题]”和“[销售回答]”）：\n",
    "<序号>\n",
    "[客户问题]\n",
    "[销售回答]\n",
    "```\n",
    "\n",
    "## 使用 Document Transformers 模块来处理原始数据"
   ]
  },
  {
   "cell_type": "code",
   "execution_count": 4,
   "id": "efcee928-b9f4-4e4a-b9fb-f6cbee21b642",
   "metadata": {},
   "outputs": [],
   "source": [
    "with open(\"education_sales_data.txt\") as f:\n",
    "    education_sales = f.read()"
   ]
  },
  {
   "cell_type": "code",
   "execution_count": 5,
   "id": "dbe535b8-2bd8-4c31-91d7-eba8aa61b3ef",
   "metadata": {},
   "outputs": [],
   "source": [
    "# 使用 CharacterTextSplitter 来进行文本分割\n",
    "\n",
    "from langchain.text_splitter import CharacterTextSplitter"
   ]
  },
  {
   "cell_type": "code",
   "execution_count": 8,
   "id": "a4f30d9b-9fc6-4860-a497-0aa8220b9284",
   "metadata": {},
   "outputs": [],
   "source": [
    "text_splitter = CharacterTextSplitter(        \n",
    "    separator = '\\n\\n',\n",
    "    chunk_size = 200,\n",
    "    chunk_overlap  = 0,\n",
    "    length_function = len,\n",
    "    is_separator_regex = False,\n",
    ")"
   ]
  },
  {
   "cell_type": "code",
   "execution_count": 9,
   "id": "530f3172-17a5-4924-ad17-284fbca422ae",
   "metadata": {},
   "outputs": [],
   "source": [
    "docs = text_splitter.create_documents([education_sales])"
   ]
  },
  {
   "cell_type": "code",
   "execution_count": 10,
   "id": "3956ec36-706e-4f43-88fc-d704f2984290",
   "metadata": {},
   "outputs": [
    {
     "data": {
      "text/plain": [
       "Document(page_content='[客户问题] 我在考虑是否为我的孩子报读中小学课程，有什么建议吗？\\n[销售回答] 当然，我们的中小学课程设计注重学生的全面发展，包括学科知识和兴趣培养。您可以考虑为孩子选择一门有趣的特长，如音乐、体育或者艺术，这样可以帮助他们更好地发展个人潜能。', metadata={})"
      ]
     },
     "execution_count": 10,
     "metadata": {},
     "output_type": "execute_result"
    }
   ],
   "source": [
    "docs[0]"
   ]
  },
  {
   "cell_type": "code",
   "execution_count": 11,
   "id": "73b2d47a-27ae-4cd4-a72a-3809b4c22bff",
   "metadata": {},
   "outputs": [
    {
     "data": {
      "text/plain": [
       "55"
      ]
     },
     "execution_count": 11,
     "metadata": {},
     "output_type": "execute_result"
    }
   ],
   "source": [
    "len(docs)"
   ]
  },
  {
   "cell_type": "markdown",
   "id": "e4617858-ad9c-42eb-a4c3-6bfb7108cdd2",
   "metadata": {},
   "source": [
    "### 使用 Faiss 作为向量数据库，持久化存储房产销售 问答对（QA-Pair）"
   ]
  },
  {
   "cell_type": "code",
   "execution_count": 13,
   "id": "508c2ab2-e187-424f-a43c-ca3d3b1a0550",
   "metadata": {},
   "outputs": [],
   "source": [
    "from langchain.embeddings.openai import OpenAIEmbeddings\n",
    "from langchain.text_splitter import CharacterTextSplitter\n",
    "from langchain.vectorstores import FAISS\n",
    "\n",
    "db = FAISS.from_documents(docs, OpenAIEmbeddings())"
   ]
  },
  {
   "cell_type": "code",
   "execution_count": 14,
   "id": "250e0873-95e2-4372-98a5-68c0feb304bb",
   "metadata": {},
   "outputs": [],
   "source": [
    "query = \"孩子读书压力大，怎么办？\""
   ]
  },
  {
   "cell_type": "code",
   "execution_count": 15,
   "id": "0d18fcc6-c2be-434b-b8de-9648ac6f83f4",
   "metadata": {},
   "outputs": [],
   "source": [
    "answer_list = db.similarity_search(query)"
   ]
  },
  {
   "cell_type": "code",
   "execution_count": 16,
   "id": "e689667e-7a45-40d6-9eae-4e52cbc7daab",
   "metadata": {},
   "outputs": [
    {
     "name": "stdout",
     "output_type": "stream",
     "text": [
      "[客户问题] 我觉得孩子的学习压力太大了，怎么办？\n",
      "[销售回答] 学习压力是孩子学习过程中的常见问题。我们可以与您的孩子进行深入的交流和沟通，了解他们的学习压力来源，并提供一些有效的减压方法和建议。同时，我们还可以提供一些心理辅导和支持，帮助他们更好地应对学习压力和挑战。\n",
      "\n",
      "[客户问题] 我的孩子学习效率不高，怎么办？\n",
      "[销售回答] 学习效率是学习成果的重要因素之一。我们可以为您的孩子提供一些有效的学习方法和技巧，如快速阅读、笔记整理、时间管理等，帮助他们提高学习效率。\n",
      "\n",
      "[客户问题] 我觉得孩子在学校里没有得到足够的关注和重视，怎么办？\n",
      "[销售回答] 学校教育应该关注每个孩子的个性和需求。您可以与孩子的老师进行积极的沟通和合作，共同关注孩子的需求和发展。此外，我们还可以为您的孩子提供个性化的辅导和支持，帮助他们更好地融入学校生活和学习。\n",
      "\n",
      "[客户问题] 我的孩子想尝试发表文章或出版自己的书籍，有什么推荐吗？\n",
      "[销售回答] 发表文章或出版自己的书籍是展示孩子才华的好方式。我们可以为您的孩子提供一些发表文章或出版书籍的建议和资源，如写作指导、编辑服务、出版资源等，帮助他们更好地实现自己的创作梦想。\n",
      "\n"
     ]
    }
   ],
   "source": [
    "for ans in answer_list:\n",
    "    print(ans.page_content + \"\\n\")"
   ]
  },
  {
   "cell_type": "code",
   "execution_count": 17,
   "id": "a6cc47bf-1566-472f-84d2-a46bd634907c",
   "metadata": {},
   "outputs": [],
   "source": [
    "db.save_local(\"education_sales\")"
   ]
  },
  {
   "cell_type": "markdown",
   "id": "0d5323e5-03fa-4c1c-b896-3ccc28af1857",
   "metadata": {},
   "source": [
    "### 使用 retriever 从向量数据库中获取结果\n",
    "\n",
    "#### 使用参数 `k` 指定返回结果数量\n"
   ]
  },
  {
   "cell_type": "code",
   "execution_count": 18,
   "id": "17f051c9-8676-48d1-a9a4-e69b52630faf",
   "metadata": {},
   "outputs": [],
   "source": [
    "topK_retriever = db.as_retriever(search_kwargs={\"k\": 3})"
   ]
  },
  {
   "cell_type": "code",
   "execution_count": 19,
   "id": "e33024db-ca7b-4d68-9b0e-c31c15ded57d",
   "metadata": {},
   "outputs": [
    {
     "data": {
      "text/plain": [
       "VectorStoreRetriever(tags=['FAISS'], metadata=None, vectorstore=<langchain.vectorstores.faiss.FAISS object at 0x7fe5539b9570>, search_type='similarity', search_kwargs={'k': 3})"
      ]
     },
     "execution_count": 19,
     "metadata": {},
     "output_type": "execute_result"
    }
   ],
   "source": [
    "topK_retriever"
   ]
  },
  {
   "cell_type": "code",
   "execution_count": 20,
   "id": "7efb1414-859f-4818-bacd-e1e2edf34b95",
   "metadata": {},
   "outputs": [
    {
     "name": "stdout",
     "output_type": "stream",
     "text": [
      "[客户问题] 我觉得孩子的学习压力太大了，怎么办？\n",
      "[销售回答] 学习压力是孩子学习过程中的常见问题。我们可以与您的孩子进行深入的交流和沟通，了解他们的学习压力来源，并提供一些有效的减压方法和建议。同时，我们还可以提供一些心理辅导和支持，帮助他们更好地应对学习压力和挑战。\n",
      "\n",
      "[客户问题] 我的孩子学习效率不高，怎么办？\n",
      "[销售回答] 学习效率是学习成果的重要因素之一。我们可以为您的孩子提供一些有效的学习方法和技巧，如快速阅读、笔记整理、时间管理等，帮助他们提高学习效率。\n",
      "\n",
      "[客户问题] 我觉得孩子在学校里没有得到足够的关注和重视，怎么办？\n",
      "[销售回答] 学校教育应该关注每个孩子的个性和需求。您可以与孩子的老师进行积极的沟通和合作，共同关注孩子的需求和发展。此外，我们还可以为您的孩子提供个性化的辅导和支持，帮助他们更好地融入学校生活和学习。\n",
      "\n"
     ]
    }
   ],
   "source": [
    "docs = topK_retriever.get_relevant_documents(query)\n",
    "for doc in docs:\n",
    "    print(doc.page_content + \"\\n\")"
   ]
  },
  {
   "cell_type": "code",
   "execution_count": 21,
   "id": "a3c4b62d-6f8f-461b-a4fb-41c8a404b831",
   "metadata": {},
   "outputs": [],
   "source": [
    "docs = topK_retriever.get_relevant_documents(\"有没有中学数学的课程？\")"
   ]
  },
  {
   "cell_type": "code",
   "execution_count": 22,
   "id": "04cca3d7-23d9-491f-8350-faeb19861dec",
   "metadata": {},
   "outputs": [
    {
     "name": "stdout",
     "output_type": "stream",
     "text": [
      "[客户问题] 我的孩子需要提高数学应用能力，有什么针对性课程推荐吗？\n",
      "[销售回答] 针对数学应用能力，我们可以为您的孩子提供一些针对性课程，如数学建模、统计学、离散数学等，让他们在数学应用领域有更深入的学习和研究。\n",
      "\n",
      "[客户问题] 我的孩子需要提高奥数成绩，有什么课程或资源推荐吗？\n",
      "[销售回答] 奥数是数学领域中的一项重要挑战。我们可以为您的孩子提供一些奥数课程和资源，如华罗庚数学、奥林匹克数学等，让他们在奥数领域有更深入的学习和研究。\n",
      "\n",
      "[客户问题] 我在考虑是否为我的孩子报读中小学课程，有什么建议吗？\n",
      "[销售回答] 当然，我们的中小学课程设计注重学生的全面发展，包括学科知识和兴趣培养。您可以考虑为孩子选择一门有趣的特长，如音乐、体育或者艺术，这样可以帮助他们更好地发展个人潜能。\n",
      "\n"
     ]
    }
   ],
   "source": [
    "for doc in docs:\n",
    "    print(doc.page_content + \"\\n\")"
   ]
  },
  {
   "cell_type": "markdown",
   "id": "b335c9e5-bc01-4a47-916c-03bec0e7a839",
   "metadata": {},
   "source": [
    "#### 使用 similarity_score_threshold 设置阈值，提升结果的相关性质量"
   ]
  },
  {
   "cell_type": "code",
   "execution_count": 23,
   "id": "b1298956-6cf3-4a68-a3c2-a3149f64f156",
   "metadata": {},
   "outputs": [],
   "source": [
    "retriever = db.as_retriever(\n",
    "    search_type=\"similarity_score_threshold\",\n",
    "    search_kwargs={\"score_threshold\": 0.8}\n",
    ")"
   ]
  },
  {
   "cell_type": "code",
   "execution_count": 24,
   "id": "d61167de-72ed-4618-a2e1-5df04784a3bc",
   "metadata": {},
   "outputs": [
    {
     "name": "stdout",
     "output_type": "stream",
     "text": [
      "[客户问题] 我觉得孩子的学习压力太大了，怎么办？\n",
      "[销售回答] 学习压力是孩子学习过程中的常见问题。我们可以与您的孩子进行深入的交流和沟通，了解他们的学习压力来源，并提供一些有效的减压方法和建议。同时，我们还可以提供一些心理辅导和支持，帮助他们更好地应对学习压力和挑战。\n",
      "\n",
      "[客户问题] 我的孩子学习效率不高，怎么办？\n",
      "[销售回答] 学习效率是学习成果的重要因素之一。我们可以为您的孩子提供一些有效的学习方法和技巧，如快速阅读、笔记整理、时间管理等，帮助他们提高学习效率。\n",
      "\n",
      "[客户问题] 我觉得孩子在学校里没有得到足够的关注和重视，怎么办？\n",
      "[销售回答] 学校教育应该关注每个孩子的个性和需求。您可以与孩子的老师进行积极的沟通和合作，共同关注孩子的需求和发展。此外，我们还可以为您的孩子提供个性化的辅导和支持，帮助他们更好地融入学校生活和学习。\n",
      "\n",
      "[客户问题] 我的孩子想尝试发表文章或出版自己的书籍，有什么推荐吗？\n",
      "[销售回答] 发表文章或出版自己的书籍是展示孩子才华的好方式。我们可以为您的孩子提供一些发表文章或出版书籍的建议和资源，如写作指导、编辑服务、出版资源等，帮助他们更好地实现自己的创作梦想。\n",
      "\n"
     ]
    }
   ],
   "source": [
    "docs = retriever.get_relevant_documents(query)\n",
    "for doc in docs:\n",
    "    print(doc.page_content + \"\\n\")"
   ]
  },
  {
   "cell_type": "markdown",
   "id": "c31344ce-f952-4604-b700-fdbb34da1e28",
   "metadata": {},
   "source": [
    "### 提取向量数据库中的`销售回答`"
   ]
  },
  {
   "cell_type": "code",
   "execution_count": 25,
   "id": "25768463-da65-4762-978d-51c0c3a9c24b",
   "metadata": {},
   "outputs": [],
   "source": [
    "docs = retriever.get_relevant_documents(query)"
   ]
  },
  {
   "cell_type": "code",
   "execution_count": 26,
   "id": "4838d3da-dca3-4c31-80da-cec75760a833",
   "metadata": {},
   "outputs": [
    {
     "data": {
      "text/plain": [
       "'[客户问题] 我觉得孩子的学习压力太大了，怎么办？\\n[销售回答] 学习压力是孩子学习过程中的常见问题。我们可以与您的孩子进行深入的交流和沟通，了解他们的学习压力来源，并提供一些有效的减压方法和建议。同时，我们还可以提供一些心理辅导和支持，帮助他们更好地应对学习压力和挑战。'"
      ]
     },
     "execution_count": 26,
     "metadata": {},
     "output_type": "execute_result"
    }
   ],
   "source": [
    "docs[0].page_content"
   ]
  },
  {
   "cell_type": "code",
   "execution_count": 27,
   "id": "1ba30232-f468-4102-b70c-02c8b74da43d",
   "metadata": {},
   "outputs": [
    {
     "data": {
      "text/plain": [
       "['[客户问题] 我觉得孩子的学习压力太大了，怎么办？\\n',\n",
       " '学习压力是孩子学习过程中的常见问题。我们可以与您的孩子进行深入的交流和沟通，了解他们的学习压力来源，并提供一些有效的减压方法和建议。同时，我们还可以提供一些心理辅导和支持，帮助他们更好地应对学习压力和挑战。']"
      ]
     },
     "execution_count": 27,
     "metadata": {},
     "output_type": "execute_result"
    }
   ],
   "source": [
    "docs[0].page_content.split(\"[销售回答] \")"
   ]
  },
  {
   "cell_type": "code",
   "execution_count": 28,
   "id": "bda8eb0c-eb1f-47b2-91ab-4c94ff71c3db",
   "metadata": {},
   "outputs": [],
   "source": [
    "ans = docs[0].page_content.split(\"[销售回答] \")[-1]"
   ]
  },
  {
   "cell_type": "code",
   "execution_count": 29,
   "id": "917a3b6c-3149-42e2-b7b6-abebd94b7f72",
   "metadata": {},
   "outputs": [
    {
     "data": {
      "text/plain": [
       "'学习压力是孩子学习过程中的常见问题。我们可以与您的孩子进行深入的交流和沟通，了解他们的学习压力来源，并提供一些有效的减压方法和建议。同时，我们还可以提供一些心理辅导和支持，帮助他们更好地应对学习压力和挑战。'"
      ]
     },
     "execution_count": 29,
     "metadata": {},
     "output_type": "execute_result"
    }
   ],
   "source": [
    "ans"
   ]
  },
  {
   "cell_type": "markdown",
   "id": "b36b61a5-156d-4546-bbd1-8a983e94676b",
   "metadata": {},
   "source": [
    "#### 尝试各种问题"
   ]
  },
  {
   "cell_type": "code",
   "execution_count": 30,
   "id": "c311a656-e571-45d6-8690-88e4be2c2a65",
   "metadata": {},
   "outputs": [],
   "source": [
    "from typing import List\n",
    "\n",
    "def sales(query: str, score_threshold: float=0.8) -> List[str]:\n",
    "    retriever = db.as_retriever(search_type=\"similarity_score_threshold\", search_kwargs={\"score_threshold\": score_threshold})    \n",
    "    docs = retriever.get_relevant_documents(query)\n",
    "    ans_list = [doc.page_content.split(\"[销售回答] \")[-1] for doc in docs]\n",
    "\n",
    "    return ans_list"
   ]
  },
  {
   "cell_type": "code",
   "execution_count": 32,
   "id": "2f4c6c08-b97c-4727-9aa1-a474d85a11e4",
   "metadata": {},
   "outputs": [
    {
     "name": "stdout",
     "output_type": "stream",
     "text": [
      "[]\n"
     ]
    }
   ],
   "source": [
    "query = \"我想考警校\"\n",
    "\n",
    "print(sales(query))"
   ]
  },
  {
   "cell_type": "code",
   "execution_count": 35,
   "id": "11e3d8b6-839f-4b2f-b519-841e0271f95b",
   "metadata": {},
   "outputs": [
    {
     "name": "stdout",
     "output_type": "stream",
     "text": [
      "['除了学校教育，我们还提供各种拓展课程和活动，如领导力培训、社会实践、科技创新等，旨在帮助您的孩子拓展视野、培养综合素质和增强社会竞争力。', '我们的中考和高考准备课程旨在提高学生的应试能力。我们的教师拥有丰富的教学经验和专业的背景，他们将帮助学生掌握考试技巧，提供精准的复习计划，助力学生取得好成绩。', '参加交换生项目可以让孩子体验不同的文化和教育体系。我们与多家国内外优质教育机构合作，可以为您提供丰富的交换生项目选择。您可以根据孩子的需求和兴趣为他们推荐最适合的交换生项目。', '竞赛类比赛是检验孩子学科能力和综合素质的好机会。我们可以为您的孩子提供专业的竞赛培训和指导，帮助他们提高竞赛能力和水平。此外，我们还可以协助他们准备比赛所需的材料和作品，让他们更有信心参加比赛。']\n"
     ]
    }
   ],
   "source": [
    "print(sales(query, 0.5))"
   ]
  },
  {
   "cell_type": "code",
   "execution_count": 43,
   "id": "fc5b030a-ae6f-4d42-9577-1420c78aecb1",
   "metadata": {},
   "outputs": [
    {
     "name": "stdout",
     "output_type": "stream",
     "text": [
      "score:0.8 ans: []\n",
      "\n",
      "score:0.75 ans: []\n",
      "\n",
      "score:0.5 ans: ['当然，我们可以为您的孩子提供一系列的扩展课程和深入研究的机会，包括参加专题讲座、参加学术研讨、组织研究项目等，让他们在感兴趣的领域有更深入的学习和研究。', '当然，我们可以为您的孩子提供一系列的扩展课程和研究项目，让他们在感兴趣的领域有更深入的学习和研究。此外，我们还可以为您推荐一些优质的学习资源和实践平台。', '针对经济学科，我们可以为您的孩子提供一些扩展课程和资源，如微观经济学、宏观经济学、国际经济等方面的内容。此外，我们还可以推荐一些经济类图书和网络资源，帮助他们更深入地了解经济世界。', '为孩子选择一个合适的留学学校是一个重要的决定。我们可以为您提供专业的留学咨询服务，根据孩子的需求和兴趣为他们推荐最合适的学校。此外，我们还可以提供国际教育交流机会，让孩子更好地了解不同国家的文化和教育体系。']\n",
      "\n"
     ]
    }
   ],
   "source": [
    "query = \"课程费用2万以内的课程有哪些？\"\n",
    "\n",
    "print(f\"score:0.8 ans: {sales(query)}\\n\")\n",
    "print(f\"score:0.75 ans: {sales(query, 0.75)}\\n\")\n",
    "print(f\"score:0.5 ans: {sales(query, 0.5)}\\n\")"
   ]
  },
  {
   "cell_type": "markdown",
   "id": "9e26e6d7-259b-4ecf-9c72-027befba4e3b",
   "metadata": {},
   "source": [
    "#### 当向量数据库中没有合适答案时，使用大语言模型能力"
   ]
  },
  {
   "cell_type": "code",
   "execution_count": 37,
   "id": "9142feb4-980a-4142-b367-1401021dceef",
   "metadata": {},
   "outputs": [],
   "source": [
    "from langchain.chains import RetrievalQA\n",
    "from langchain.chat_models import ChatOpenAI\n",
    "\n",
    "llm = ChatOpenAI(model_name=\"gpt-3.5-turbo\", temperature=0)\n",
    "qa_chain = RetrievalQA.from_chain_type(llm,\n",
    "                                       retriever=db.as_retriever(search_type=\"similarity_score_threshold\",\n",
    "                                                                 search_kwargs={\"score_threshold\": 0.8}))"
   ]
  },
  {
   "cell_type": "code",
   "execution_count": 45,
   "id": "d281b560-54bb-4a25-a1dc-b23874361654",
   "metadata": {},
   "outputs": [
    {
     "data": {
      "text/plain": [
       "{'query': '课程费用2万以内的课程有哪些？',\n",
       " 'result': '很抱歉，我无法提供具体的课程名称和费用范围。课程费用会因地区、学校、课程类型和学习方式等因素而有所不同。建议您通过学校或在线教育平台查询相关课程的费用信息。'}"
      ]
     },
     "execution_count": 45,
     "metadata": {},
     "output_type": "execute_result"
    }
   ],
   "source": [
    "qa_chain({\"query\": query})"
   ]
  },
  {
   "cell_type": "code",
   "execution_count": 40,
   "id": "c6a30dcc-fa6b-4282-935c-b07902746e19",
   "metadata": {},
   "outputs": [
    {
     "data": {
      "text/plain": [
       "{'query': '我想考警校', 'result': '很好！考警校是一个很好的选择。你有什么关于考警校的问题吗？'}"
      ]
     },
     "execution_count": 40,
     "metadata": {},
     "output_type": "execute_result"
    }
   ],
   "source": [
    "qa_chain({\"query\": \"我想考警校\"})"
   ]
  },
  {
   "cell_type": "code",
   "execution_count": 46,
   "id": "9da44bd6-02ef-4fb6-8e9e-7c99aeba483a",
   "metadata": {},
   "outputs": [
    {
     "name": "stdout",
     "output_type": "stream",
     "text": [
      "[]\n"
     ]
    }
   ],
   "source": [
    "print(sales(\"我想考警校\"))"
   ]
  },
  {
   "cell_type": "markdown",
   "id": "0a0647e8-5b41-4c93-87c2-3240ec558717",
   "metadata": {},
   "source": [
    "## 加载 FAISS 向量数据库已有结果"
   ]
  },
  {
   "cell_type": "code",
   "execution_count": 47,
   "id": "913edd04-37ea-4c3f-9346-086aeb0ab447",
   "metadata": {},
   "outputs": [],
   "source": [
    "from langchain.embeddings.openai import OpenAIEmbeddings\n",
    "from langchain.vectorstores import FAISS\n",
    "\n",
    "db = FAISS.load_local(\"./education_sales/\", OpenAIEmbeddings())"
   ]
  },
  {
   "cell_type": "code",
   "execution_count": 48,
   "id": "77d8eee4-6383-4b4a-9737-95ea9fc53b87",
   "metadata": {},
   "outputs": [],
   "source": [
    "from langchain.chains import RetrievalQA\n",
    "from langchain.chat_models import ChatOpenAI\n",
    "\n",
    "llm = ChatOpenAI(model_name=\"gpt-3.5-turbo\", temperature=0)\n",
    "qa_chain = RetrievalQA.from_chain_type(llm,\n",
    "                                       retriever=db.as_retriever(search_type=\"similarity_score_threshold\",\n",
    "                                                                 search_kwargs={\"score_threshold\": 0.8}))"
   ]
  },
  {
   "cell_type": "code",
   "execution_count": 49,
   "id": "5dfac197-cadb-47d7-8cbe-1b07a83fc8e1",
   "metadata": {},
   "outputs": [
    {
     "name": "stderr",
     "output_type": "stream",
     "text": [
      "/home/ubuntu/.local/lib/python3.10/site-packages/langchain/vectorstores/base.py:266: UserWarning: No relevant docs were retrieved using the relevance score threshold 0.8\n",
      "  warnings.warn(\n"
     ]
    },
    {
     "data": {
      "text/plain": [
       "{'query': '我想买别墅，你们有么',\n",
       " 'result': '很抱歉，我是一个AI助手，无法提供房地产销售服务。建议您联系当地的房地产中介或者房产开发商，他们可以帮助您找到合适的别墅。'}"
      ]
     },
     "execution_count": 49,
     "metadata": {},
     "output_type": "execute_result"
    }
   ],
   "source": [
    "qa_chain({\"query\": \"我想买别墅，你们有么\"})"
   ]
  },
  {
   "cell_type": "code",
   "execution_count": 33,
   "id": "fc393afc-06d3-4483-bd24-efe000ef5f2a",
   "metadata": {},
   "outputs": [],
   "source": [
    "# 输出内部 Chain 的日志\n",
    "qa_chain.combine_documents_chain.verbose = True"
   ]
  },
  {
   "cell_type": "code",
   "execution_count": 34,
   "id": "013c313a-5e7c-48d1-8ed4-eee96e50a99c",
   "metadata": {},
   "outputs": [
    {
     "name": "stdout",
     "output_type": "stream",
     "text": [
      "\n",
      "\n",
      "\u001b[1m> Entering new StuffDocumentsChain chain...\u001b[0m\n",
      "\n",
      "\u001b[1m> Finished chain.\u001b[0m\n"
     ]
    },
    {
     "data": {
      "text/plain": [
       "{'query': '我想买别墅，你们有么',\n",
       " 'result': '很抱歉，我是一个AI助手，无法提供房地产销售服务。建议您联系当地的房地产中介或者通过房地产网站来寻找别墅的购买信息。'}"
      ]
     },
     "execution_count": 34,
     "metadata": {},
     "output_type": "execute_result"
    }
   ],
   "source": [
    "qa_chain({\"query\": \"我想买别墅，你们有么\"})"
   ]
  },
  {
   "cell_type": "code",
   "execution_count": 35,
   "id": "e5fb0943-ffe9-4270-8dbe-f5f5314e6042",
   "metadata": {},
   "outputs": [],
   "source": [
    "# 返回向量数据库的检索结果\n",
    "qa_chain.return_source_documents = True"
   ]
  },
  {
   "cell_type": "code",
   "execution_count": 36,
   "id": "fbc1741e-d34f-4df5-874b-02b78e8cd67a",
   "metadata": {},
   "outputs": [
    {
     "name": "stdout",
     "output_type": "stream",
     "text": [
      "\n",
      "\n",
      "\u001b[1m> Entering new StuffDocumentsChain chain...\u001b[0m\n",
      "\n",
      "\u001b[1m> Finished chain.\u001b[0m\n"
     ]
    }
   ],
   "source": [
    "result = qa_chain({\"query\": \"我想买别墅，你们有么\"})"
   ]
  },
  {
   "cell_type": "code",
   "execution_count": 37,
   "id": "fac8309c-033c-4144-ada0-08e74fa9bf2d",
   "metadata": {},
   "outputs": [
    {
     "data": {
      "text/plain": [
       "{'query': '我想买别墅，你们有么',\n",
       " 'result': '很抱歉，我是一个AI助手，无法提供实际的房产销售信息。建议您联系当地的房地产中介或者在房产网站上搜索别墅的销售信息。',\n",
       " 'source_documents': []}"
      ]
     },
     "execution_count": 37,
     "metadata": {},
     "output_type": "execute_result"
    }
   ],
   "source": [
    "result"
   ]
  },
  {
   "cell_type": "code",
   "execution_count": null,
   "id": "37de84df-999f-4469-9bbe-de9c95c6f6b3",
   "metadata": {},
   "outputs": [],
   "source": []
  }
 ],
 "metadata": {
  "kernelspec": {
   "display_name": "Python 3 (ipykernel)",
   "language": "python",
   "name": "python3"
  },
  "language_info": {
   "codemirror_mode": {
    "name": "ipython",
    "version": 3
   },
   "file_extension": ".py",
   "mimetype": "text/x-python",
   "name": "python",
   "nbconvert_exporter": "python",
   "pygments_lexer": "ipython3",
   "version": "3.10.12"
  }
 },
 "nbformat": 4,
 "nbformat_minor": 5
}
